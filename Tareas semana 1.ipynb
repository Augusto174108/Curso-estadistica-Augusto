{
 "cells": [
  {
   "cell_type": "markdown",
   "id": "09399074",
   "metadata": {},
   "source": [
    "# Tareas de los videos semana 1"
   ]
  },
  {
   "cell_type": "markdown",
   "id": "87686768",
   "metadata": {},
   "source": [
    "## Task 1\n",
    "### - Escribir \"hola mundo\""
   ]
  },
  {
   "cell_type": "code",
   "execution_count": 5,
   "id": "b2480823",
   "metadata": {},
   "outputs": [
    {
     "name": "stdout",
     "output_type": "stream",
     "text": [
      "Hola mundo!!!!!!!!\n"
     ]
    }
   ],
   "source": [
    "print(\"Hola mundo!!!!!!!!\")"
   ]
  },
  {
   "cell_type": "markdown",
   "id": "ab387aa7",
   "metadata": {},
   "source": [
    "## Task 2\n",
    "### - Operaciones simples artimeticas"
   ]
  },
  {
   "cell_type": "code",
   "execution_count": 7,
   "id": "677f5292",
   "metadata": {},
   "outputs": [
    {
     "name": "stdout",
     "output_type": "stream",
     "text": [
      "12\n"
     ]
    }
   ],
   "source": [
    "def adicion(a, b):\n",
    "    return a + b\n",
    "print(adicion(7, 5)) # Adición"
   ]
  },
  {
   "cell_type": "code",
   "execution_count": 8,
   "id": "7a4477eb",
   "metadata": {},
   "outputs": [
    {
     "name": "stdout",
     "output_type": "stream",
     "text": [
      "2\n"
     ]
    }
   ],
   "source": [
    "def resta(a, b):\n",
    "    return a - b\n",
    "print(resta(7, 5)) # Resta"
   ]
  },
  {
   "cell_type": "code",
   "execution_count": 9,
   "id": "9ea65669",
   "metadata": {},
   "outputs": [
    {
     "name": "stdout",
     "output_type": "stream",
     "text": [
      "35\n"
     ]
    }
   ],
   "source": [
    "def multiplicacion(a, b):\n",
    "    return a * b\n",
    "print(multiplicacion(7, 5)) # Multiplicación    "
   ]
  },
  {
   "cell_type": "code",
   "execution_count": 10,
   "id": "4c596f5d",
   "metadata": {},
   "outputs": [
    {
     "name": "stdout",
     "output_type": "stream",
     "text": [
      "1.4\n"
     ]
    }
   ],
   "source": [
    "def division(a, b):\n",
    "    return a / b\n",
    "print(division(7, 5)) # División"
   ]
  },
  {
   "cell_type": "markdown",
   "id": "4cc33019",
   "metadata": {},
   "source": [
    "### - Hacer una función que evalue el valor absoluto de un numero."
   ]
  },
  {
   "cell_type": "code",
   "execution_count": 1,
   "id": "9ed34b55",
   "metadata": {},
   "outputs": [],
   "source": [
    "def valor_absoluto (num):\n",
    "    if num < 0:\n",
    "        return -num\n",
    "    else: \n",
    "        return num"
   ]
  },
  {
   "cell_type": "code",
   "execution_count": 1,
   "id": "932c3ef2",
   "metadata": {},
   "outputs": [
    {
     "ename": "NameError",
     "evalue": "name 'valor_absoluto' is not defined",
     "output_type": "error",
     "traceback": [
      "\u001b[31m---------------------------------------------------------------------------\u001b[39m",
      "\u001b[31mNameError\u001b[39m                                 Traceback (most recent call last)",
      "\u001b[36mCell\u001b[39m\u001b[36m \u001b[39m\u001b[32mIn[1]\u001b[39m\u001b[32m, line 1\u001b[39m\n\u001b[32m----> \u001b[39m\u001b[32m1\u001b[39m \u001b[38;5;28mprint\u001b[39m (\u001b[43mvalor_absoluto\u001b[49m(-\u001b[32m5\u001b[39m))  \u001b[38;5;66;03m# Test the function with a negative number\u001b[39;00m\n\u001b[32m      2\u001b[39m \u001b[38;5;28mprint\u001b[39m (valor_absoluto(\u001b[32m10\u001b[39m))\n\u001b[32m      3\u001b[39m \u001b[38;5;28mprint\u001b[39m (valor_absoluto(\u001b[32m0\u001b[39m))   \n",
      "\u001b[31mNameError\u001b[39m: name 'valor_absoluto' is not defined"
     ]
    }
   ],
   "source": [
    "print (valor_absoluto(-5))  # Test the function with a negative number\n",
    "print (valor_absoluto(10))\n",
    "print (valor_absoluto(0))   \n"
   ]
  },
  {
   "cell_type": "code",
   "execution_count": null,
   "id": "1a8a6108",
   "metadata": {},
   "outputs": [],
   "source": []
  }
 ],
 "metadata": {
  "kernelspec": {
   "display_name": "Python 3",
   "language": "python",
   "name": "python3"
  },
  "language_info": {
   "codemirror_mode": {
    "name": "ipython",
    "version": 3
   },
   "file_extension": ".py",
   "mimetype": "text/x-python",
   "name": "python",
   "nbconvert_exporter": "python",
   "pygments_lexer": "ipython3",
   "version": "3.12.1"
  }
 },
 "nbformat": 4,
 "nbformat_minor": 5
}
