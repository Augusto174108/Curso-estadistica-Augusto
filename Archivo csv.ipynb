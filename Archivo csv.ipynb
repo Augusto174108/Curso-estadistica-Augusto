{
 "cells": [
  {
   "cell_type": "markdown",
   "id": "c32653de",
   "metadata": {},
   "source": [
    "## Seguimiento de video semana 2\n"
   ]
  },
  {
   "cell_type": "code",
   "execution_count": null,
   "id": "4d7e0e3d",
   "metadata": {},
   "outputs": [],
   "source": [
    "import pandas as pd\n",
    "\n",
    "def read_csv_to_dataframe(file_path):\n",
    "    \"\"\"\n",
    "    Reads a CSV file separated by commas and converts it into a pandas DataFrame.\n",
    "    \n",
    "    Parameters:\n",
    "        file_path (str): Path to the CSV file.\n",
    "    \n",
    "    Returns:\n",
    "        pd.DataFrame: DataFrame containing the CSV data.\n",
    "    \"\"\"\n",
    "    df = pd.read_csv(file_path)\n",
    "    return df\n"
   ]
  },
  {
   "cell_type": "code",
   "execution_count": null,
   "id": "4cf3df75",
   "metadata": {},
   "outputs": [],
   "source": [
    "read_csv_to_dataframe(\"Terminos_lagoon_TA_DIC_2023_RawData.csv\")"
   ]
  },
  {
   "cell_type": "code",
   "execution_count": null,
   "id": "94ffe6f0",
   "metadata": {},
   "outputs": [],
   "source": [
    "terminos_df = read_csv_to_dataframe(\"Terminos_lagoon_TA_DIC_2023_RawData.csv\")"
   ]
  },
  {
   "cell_type": "code",
   "execution_count": null,
   "id": "659580c1",
   "metadata": {},
   "outputs": [],
   "source": [
    "print(terminos_df.info())  # Da la información general del DataFrame    "
   ]
  },
  {
   "cell_type": "code",
   "execution_count": null,
   "id": "f74457a8",
   "metadata": {},
   "outputs": [],
   "source": [
    "print(terminos_df.describe())"
   ]
  },
  {
   "cell_type": "code",
   "execution_count": null,
   "id": "40004f1c",
   "metadata": {},
   "outputs": [],
   "source": []
  }
 ],
 "metadata": {
  "kernelspec": {
   "display_name": "Python 3",
   "language": "python",
   "name": "python3"
  },
  "language_info": {
   "codemirror_mode": {
    "name": "ipython",
    "version": 3
   },
   "file_extension": ".py",
   "mimetype": "text/x-python",
   "name": "python",
   "nbconvert_exporter": "python",
   "pygments_lexer": "ipython3",
   "version": "3.12.1"
  }
 },
 "nbformat": 4,
 "nbformat_minor": 5
}
