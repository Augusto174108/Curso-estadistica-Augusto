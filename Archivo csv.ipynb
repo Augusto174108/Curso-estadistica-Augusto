{
 "cells": [
  {
   "cell_type": "markdown",
   "id": "09399074",
   "metadata": {},
   "source": [
    "# Tareas de los videos "
   ]
  },
  {
   "cell_type": "markdown",
   "id": "4cc33019",
   "metadata": {},
   "source": [
    "### - Hacer una función que evalue el valor absoluto de un numero."
   ]
  },
  {
   "cell_type": "code",
   "execution_count": 1,
   "id": "9ed34b55",
   "metadata": {},
   "outputs": [],
   "source": [
    "def valor_absoluto (num):\n",
    "    if num < 0:\n",
    "        return -num\n",
    "    else: \n",
    "        return num"
   ]
  },
  {
   "cell_type": "code",
   "execution_count": 4,
   "id": "932c3ef2",
   "metadata": {},
   "outputs": [
    {
     "name": "stdout",
     "output_type": "stream",
     "text": [
      "5\n",
      "10\n"
     ]
    }
   ],
   "source": [
    "print (valor_absoluto(-5))  # Test the function with a negative number\n",
    "print (valor_absoluto(10))\n"
   ]
  },
  {
   "cell_type": "code",
   "execution_count": null,
   "id": "1a8a6108",
   "metadata": {},
   "outputs": [],
   "source": []
  }
 ],
 "metadata": {
  "kernelspec": {
   "display_name": "Python 3",
   "language": "python",
   "name": "python3"
  },
  "language_info": {
   "codemirror_mode": {
    "name": "ipython",
    "version": 3
   },
   "file_extension": ".py",
   "mimetype": "text/x-python",
   "name": "python",
   "nbconvert_exporter": "python",
   "pygments_lexer": "ipython3",
   "version": "3.12.1"
  }
 },
 "nbformat": 4,
 "nbformat_minor": 5
}
