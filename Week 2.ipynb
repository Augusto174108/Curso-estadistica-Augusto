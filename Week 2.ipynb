{
 "cells": [
  {
   "cell_type": "markdown",
   "id": "8f017948",
   "metadata": {},
   "source": [
    "# Tareas de los videos semana 2 "
   ]
  },
  {
   "cell_type": "markdown",
   "id": "4b40ad99",
   "metadata": {},
   "source": [
    "### 04_missing_values \n",
    "### Exercises:  \n",
    "    - Create a new column called \"TA_DIC_ratio\" that is the ratio of TA to DIC\n",
    "    - Calculate the mean and standard deviation of the \"TA_DIC_ratio\" for each season\n",
    "    - Calculate the mean and standard deviation of the \"TA_DIC_ratio\" for each season and area\n",
    "    - Save the results to an Excel file called \"TA_DIC_Season_Areas.xlsx\"\n"
   ]
  },
  {
   "cell_type": "markdown",
   "id": "a4bcf9b4",
   "metadata": {},
   "source": [
    "## **Primer ejercicio**\n",
    "\n",
    "### 1. Importamos y verificamos la base de datos"
   ]
  },
  {
   "cell_type": "code",
   "execution_count": null,
   "id": "f3663550",
   "metadata": {},
   "outputs": [],
   "source": [
    "def import_csv(file):\n",
    "    # Read the file into a DataFrame: df\n",
    "    import pandas as pd\n",
    "    return pd.read_csv(file)"
   ]
  },
  {
   "cell_type": "code",
   "execution_count": null,
   "id": "d026f132",
   "metadata": {},
   "outputs": [],
   "source": [
    "# Path to the file to be imported\n",
    "path = \"Terminos_lagoon_TA_DIC_2023_RawData.csv\"\n",
    "\n",
    "# Import the file\n",
    "CO2Data = import_csv(path)"
   ]
  },
  {
   "cell_type": "code",
   "execution_count": null,
   "id": "83dcd320",
   "metadata": {},
   "outputs": [],
   "source": [
    "CO2Data.head()  # Display the first few rows of the DataFrame"
   ]
  },
  {
   "cell_type": "markdown",
   "id": "63699483",
   "metadata": {},
   "source": [
    "### 2. Creamos la nueva columna y verificamos."
   ]
  },
  {
   "cell_type": "code",
   "execution_count": 7,
   "id": "9a5a2a61",
   "metadata": {},
   "outputs": [],
   "source": [
    "CO2Data[\"TA_DIC_RATIO\"] = CO2Data[\"ta_micromol_kg\"] / CO2Data[\"dic_micromol_kg\"]  # Create the new column"
   ]
  },
  {
   "cell_type": "code",
   "execution_count": 11,
   "id": "eff7d4c0",
   "metadata": {},
   "outputs": [],
   "source": [
    "TA_DIC_RATIO = CO2Data[\"TA_DIC_RATIO\"]"
   ]
  },
  {
   "cell_type": "code",
   "execution_count": 12,
   "id": "4635a6d2",
   "metadata": {},
   "outputs": [
    {
     "data": {
      "application/vnd.microsoft.datawrangler.viewer.v0+json": {
       "columns": [
        {
         "name": "index",
         "rawType": "int64",
         "type": "integer"
        },
        {
         "name": "TA_DIC_RATIO",
         "rawType": "float64",
         "type": "float"
        }
       ],
       "ref": "71a23fba-ef42-4f55-b5fa-13711f1ae355",
       "rows": [
        [
         "0",
         "0.9867177522349936"
        ],
        [
         "1",
         "0.9964845862628448"
        ],
        [
         "2",
         "0.9957035445757251"
        ],
        [
         "3",
         "1.0886283065175892"
        ],
        [
         "4",
         "1.032445355191257"
        ]
       ],
       "shape": {
        "columns": 1,
        "rows": 5
       }
      },
      "text/plain": [
       "0    0.986718\n",
       "1    0.996485\n",
       "2    0.995704\n",
       "3    1.088628\n",
       "4    1.032445\n",
       "Name: TA_DIC_RATIO, dtype: float64"
      ]
     },
     "execution_count": 12,
     "metadata": {},
     "output_type": "execute_result"
    }
   ],
   "source": [
    "TA_DIC_RATIO.head()  # Display the first few rows of the new column"
   ]
  },
  {
   "cell_type": "markdown",
   "id": "cbd5b0a7",
   "metadata": {},
   "source": [
    "## Segundo ejercicio."
   ]
  },
  {
   "cell_type": "code",
   "execution_count": 13,
   "id": "2a435cbf",
   "metadata": {},
   "outputs": [],
   "source": [
    "season_stats = CO2Data.groupby(\"season\")[\"TA_DIC_RATIO\"].agg([\"mean\", \"std\"])"
   ]
  },
  {
   "cell_type": "code",
   "execution_count": 14,
   "id": "c484f24f",
   "metadata": {},
   "outputs": [
    {
     "data": {
      "application/vnd.microsoft.datawrangler.viewer.v0+json": {
       "columns": [
        {
         "name": "season",
         "rawType": "object",
         "type": "string"
        },
        {
         "name": "mean",
         "rawType": "float64",
         "type": "float"
        },
        {
         "name": "std",
         "rawType": "float64",
         "type": "float"
        }
       ],
       "ref": "5873a22f-77e1-4363-ab3e-2d8e05fd4c51",
       "rows": [
        [
         "Dry",
         "1.0585579384004313",
         "0.08611149630529746"
        ],
        [
         "Rainy",
         "1.0223495996496486",
         "0.10092356808152443"
        ]
       ],
       "shape": {
        "columns": 2,
        "rows": 2
       }
      },
      "text/html": [
       "<div>\n",
       "<style scoped>\n",
       "    .dataframe tbody tr th:only-of-type {\n",
       "        vertical-align: middle;\n",
       "    }\n",
       "\n",
       "    .dataframe tbody tr th {\n",
       "        vertical-align: top;\n",
       "    }\n",
       "\n",
       "    .dataframe thead th {\n",
       "        text-align: right;\n",
       "    }\n",
       "</style>\n",
       "<table border=\"1\" class=\"dataframe\">\n",
       "  <thead>\n",
       "    <tr style=\"text-align: right;\">\n",
       "      <th></th>\n",
       "      <th>mean</th>\n",
       "      <th>std</th>\n",
       "    </tr>\n",
       "    <tr>\n",
       "      <th>season</th>\n",
       "      <th></th>\n",
       "      <th></th>\n",
       "    </tr>\n",
       "  </thead>\n",
       "  <tbody>\n",
       "    <tr>\n",
       "      <th>Dry</th>\n",
       "      <td>1.058558</td>\n",
       "      <td>0.086111</td>\n",
       "    </tr>\n",
       "    <tr>\n",
       "      <th>Rainy</th>\n",
       "      <td>1.022350</td>\n",
       "      <td>0.100924</td>\n",
       "    </tr>\n",
       "  </tbody>\n",
       "</table>\n",
       "</div>"
      ],
      "text/plain": [
       "            mean       std\n",
       "season                    \n",
       "Dry     1.058558  0.086111\n",
       "Rainy   1.022350  0.100924"
      ]
     },
     "execution_count": 14,
     "metadata": {},
     "output_type": "execute_result"
    }
   ],
   "source": [
    "season_stats.head()  # Display the first few rows of the season statistics"
   ]
  },
  {
   "cell_type": "markdown",
   "id": "20bfb50b",
   "metadata": {},
   "source": [
    "## Tercer ejercicio."
   ]
  },
  {
   "cell_type": "code",
   "execution_count": 16,
   "id": "36651db7",
   "metadata": {},
   "outputs": [],
   "source": [
    "season_area_stats = CO2Data.groupby([\"season\", \"area\"])[\"TA_DIC_RATIO\"].agg([\"mean\", \"std\"]).reset_index()\n"
   ]
  },
  {
   "cell_type": "code",
   "execution_count": 18,
   "id": "ec6ebd62",
   "metadata": {},
   "outputs": [
    {
     "data": {
      "application/vnd.microsoft.datawrangler.viewer.v0+json": {
       "columns": [
        {
         "name": "index",
         "rawType": "int64",
         "type": "integer"
        },
        {
         "name": "season",
         "rawType": "object",
         "type": "string"
        },
        {
         "name": "area",
         "rawType": "object",
         "type": "string"
        },
        {
         "name": "mean",
         "rawType": "float64",
         "type": "float"
        },
        {
         "name": "std",
         "rawType": "float64",
         "type": "float"
        }
       ],
       "ref": "eaaf24ae-47ad-42b3-91cf-da2767de795f",
       "rows": [
        [
         "0",
         "Dry",
         "Coast",
         "1.1157657608048528",
         "0.11503287148684035"
        ],
        [
         "1",
         "Dry",
         "Plume",
         "1.0596869762001135",
         "0.03557368133420036"
        ],
        [
         "2",
         "Dry",
         "River",
         "1.0002210781963277",
         "0.03774663227796748"
        ],
        [
         "3",
         "Rainy",
         "Coast",
         "1.090126663308005",
         "0.12965775394316248"
        ],
        [
         "4",
         "Rainy",
         "Plume",
         "1.0255437316896632",
         "0.049222002713097415"
        ]
       ],
       "shape": {
        "columns": 4,
        "rows": 5
       }
      },
      "text/html": [
       "<div>\n",
       "<style scoped>\n",
       "    .dataframe tbody tr th:only-of-type {\n",
       "        vertical-align: middle;\n",
       "    }\n",
       "\n",
       "    .dataframe tbody tr th {\n",
       "        vertical-align: top;\n",
       "    }\n",
       "\n",
       "    .dataframe thead th {\n",
       "        text-align: right;\n",
       "    }\n",
       "</style>\n",
       "<table border=\"1\" class=\"dataframe\">\n",
       "  <thead>\n",
       "    <tr style=\"text-align: right;\">\n",
       "      <th></th>\n",
       "      <th>season</th>\n",
       "      <th>area</th>\n",
       "      <th>mean</th>\n",
       "      <th>std</th>\n",
       "    </tr>\n",
       "  </thead>\n",
       "  <tbody>\n",
       "    <tr>\n",
       "      <th>0</th>\n",
       "      <td>Dry</td>\n",
       "      <td>Coast</td>\n",
       "      <td>1.115766</td>\n",
       "      <td>0.115033</td>\n",
       "    </tr>\n",
       "    <tr>\n",
       "      <th>1</th>\n",
       "      <td>Dry</td>\n",
       "      <td>Plume</td>\n",
       "      <td>1.059687</td>\n",
       "      <td>0.035574</td>\n",
       "    </tr>\n",
       "    <tr>\n",
       "      <th>2</th>\n",
       "      <td>Dry</td>\n",
       "      <td>River</td>\n",
       "      <td>1.000221</td>\n",
       "      <td>0.037747</td>\n",
       "    </tr>\n",
       "    <tr>\n",
       "      <th>3</th>\n",
       "      <td>Rainy</td>\n",
       "      <td>Coast</td>\n",
       "      <td>1.090127</td>\n",
       "      <td>0.129658</td>\n",
       "    </tr>\n",
       "    <tr>\n",
       "      <th>4</th>\n",
       "      <td>Rainy</td>\n",
       "      <td>Plume</td>\n",
       "      <td>1.025544</td>\n",
       "      <td>0.049222</td>\n",
       "    </tr>\n",
       "  </tbody>\n",
       "</table>\n",
       "</div>"
      ],
      "text/plain": [
       "  season   area      mean       std\n",
       "0    Dry  Coast  1.115766  0.115033\n",
       "1    Dry  Plume  1.059687  0.035574\n",
       "2    Dry  River  1.000221  0.037747\n",
       "3  Rainy  Coast  1.090127  0.129658\n",
       "4  Rainy  Plume  1.025544  0.049222"
      ]
     },
     "execution_count": 18,
     "metadata": {},
     "output_type": "execute_result"
    }
   ],
   "source": [
    "season_area_stats.head()  # Display the first few rows of the season statistics"
   ]
  },
  {
   "cell_type": "markdown",
   "id": "ec189ce9",
   "metadata": {},
   "source": [
    "## Cuarto ejercicio."
   ]
  },
  {
   "cell_type": "code",
   "execution_count": 22,
   "id": "5439fef6",
   "metadata": {},
   "outputs": [],
   "source": [
    "season_area_stats.to_csv (\"TA_DIC_Season_Area.csv\", index=False)  # Save the season statistics to a CSV file"
   ]
  },
  {
   "cell_type": "markdown",
   "id": "0a799718",
   "metadata": {},
   "source": [
    "### Dejar cifras significativas y dar formato\n"
   ]
  },
  {
   "cell_type": "code",
   "execution_count": 30,
   "id": "5bfed9de",
   "metadata": {},
   "outputs": [
    {
     "ename": "ModuleNotFoundError",
     "evalue": "No module named 'tabulate'",
     "output_type": "error",
     "traceback": [
      "\u001b[31m---------------------------------------------------------------------------\u001b[39m",
      "\u001b[31mModuleNotFoundError\u001b[39m                       Traceback (most recent call last)",
      "\u001b[36mCell\u001b[39m\u001b[36m \u001b[39m\u001b[32mIn[30]\u001b[39m\u001b[32m, line 1\u001b[39m\n\u001b[32m----> \u001b[39m\u001b[32m1\u001b[39m \u001b[38;5;28;01mfrom\u001b[39;00m\u001b[38;5;250m \u001b[39m\u001b[34;01mtabulate\u001b[39;00m\u001b[38;5;250m \u001b[39m\u001b[38;5;28;01mimport\u001b[39;00m tabulate\n",
      "\u001b[31mModuleNotFoundError\u001b[39m: No module named 'tabulate'"
     ]
    }
   ],
   "source": [
    "from tabulate import tabulate"
   ]
  },
  {
   "cell_type": "code",
   "execution_count": null,
   "id": "bd7c1a47",
   "metadata": {},
   "outputs": [
    {
     "ename": "ModuleNotFoundError",
     "evalue": "No module named 'tabulate'",
     "output_type": "error",
     "traceback": [
      "\u001b[31m---------------------------------------------------------------------------\u001b[39m",
      "\u001b[31mModuleNotFoundError\u001b[39m                       Traceback (most recent call last)",
      "\u001b[36mCell\u001b[39m\u001b[36m \u001b[39m\u001b[32mIn[28]\u001b[39m\u001b[32m, line 1\u001b[39m\n\u001b[32m----> \u001b[39m\u001b[32m1\u001b[39m \u001b[38;5;28;01mfrom\u001b[39;00m\u001b[38;5;250m \u001b[39m\u001b[34;01mtabulate\u001b[39;00m\u001b[38;5;250m \u001b[39m\u001b[38;5;28;01mimport\u001b[39;00m tabulate\n\u001b[32m      3\u001b[39m \u001b[38;5;66;03m# Asignar nombres de columnas adecuados\u001b[39;00m\n\u001b[32m      5\u001b[39m season_area_stats.columns = [\u001b[33m'\u001b[39m\u001b[33mseason\u001b[39m\u001b[33m'\u001b[39m, \u001b[33m'\u001b[39m\u001b[33marea\u001b[39m\u001b[33m'\u001b[39m] + [\u001b[33mf\u001b[39m\u001b[33m\"\u001b[39m\u001b[38;5;132;01m{\u001b[39;00mvar\u001b[38;5;132;01m}\u001b[39;00m\u001b[33m_\u001b[39m\u001b[38;5;132;01m{\u001b[39;00mstat\u001b[38;5;132;01m}\u001b[39;00m\u001b[33m\"\u001b[39m \u001b[38;5;28;01mfor\u001b[39;00m var \u001b[38;5;129;01min\u001b[39;00m TA_DIC_RATIO \u001b[38;5;28;01mfor\u001b[39;00m stat \u001b[38;5;129;01min\u001b[39;00m [\u001b[33m'\u001b[39m\u001b[33mmean\u001b[39m\u001b[33m'\u001b[39m, \u001b[33m'\u001b[39m\u001b[33mstd\u001b[39m\u001b[33m'\u001b[39m]]\n",
      "\u001b[31mModuleNotFoundError\u001b[39m: No module named 'tabulate'"
     ]
    }
   ],
   "source": [
    "\n",
    "\n",
    "# Asignar nombres de columnas adecuados\n",
    "\n",
    "season_area_stats.columns = ['season', 'area'] + [f\"{var}_{stat}\" for var in TA_DIC_RATIO for stat in ['mean', 'std']]\n",
    "\n",
    "# Formatear los valores para mostrar \"media ± desviación estándar\" sin notación científica y con dos cifras decimales\n",
    "for var in TA_DIC_RATIO:\n",
    "    mean_col = f\"{var}_mean\"\n",
    "    std_col = f\"{var}_std\"\n",
    "    season_area_stats[f\"{var}_formatted\"] = season_area_stats.apply(lambda row: f\"{row[mean_col]:,.2f} ± {row[std_col]:,.2f}\", axis=1)\n",
    "\n",
    "# Seleccionar solo las columnas formateadas junto con los índices\n",
    "formatted_result = season_area_stats[['season', 'area'] + [f\"{var}_formatted\" for var in TA_DIC_RATIO]]\n",
    "\n",
    "# Mostrar la tabla con los resultados formateados usando tabulate\n",
    "table = tabulate(formatted_result, headers='keys', tablefmt='pretty', showindex=False)\n",
    "print(table)\n"
   ]
  },
  {
   "cell_type": "code",
   "execution_count": null,
   "id": "459cf453",
   "metadata": {},
   "outputs": [],
   "source": []
  }
 ],
 "metadata": {
  "kernelspec": {
   "display_name": "Python 3",
   "language": "python",
   "name": "python3"
  },
  "language_info": {
   "codemirror_mode": {
    "name": "ipython",
    "version": 3
   },
   "file_extension": ".py",
   "mimetype": "text/x-python",
   "name": "python",
   "nbconvert_exporter": "python",
   "pygments_lexer": "ipython3",
   "version": "3.12.1"
  }
 },
 "nbformat": 4,
 "nbformat_minor": 5
}
