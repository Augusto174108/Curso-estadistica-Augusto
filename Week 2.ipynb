{
 "cells": [
  {
   "cell_type": "markdown",
   "id": "8f017948",
   "metadata": {},
   "source": [
    "# Tareas de los videos semana 2 "
   ]
  },
  {
   "cell_type": "markdown",
   "id": "4b40ad99",
   "metadata": {},
   "source": [
    "### 04_missing_values \n",
    "### Exercises:  \n",
    "    - Create a new column called \"TA_DIC_ratio\" that is the ratio of TA to DIC\n",
    "    - Calculate the mean and standard deviation of the \"TA_DIC_ratio\" for each season\n",
    "    - Calculate the mean and standard deviation of the \"TA_DIC_ratio\" for each season and area\n",
    "    - Save the results to an Excel file called \"TA_DIC_Season_Areas.xlsx\"\n"
   ]
  },
  {
   "cell_type": "markdown",
   "id": "a4bcf9b4",
   "metadata": {},
   "source": [
    "## **Primer ejercicio**\n",
    "\n",
    "### 1. Importamos y verificamos la base de datos"
   ]
  },
  {
   "cell_type": "code",
   "execution_count": null,
   "id": "f3663550",
   "metadata": {},
   "outputs": [],
   "source": [
    "def import_csv(file):\n",
    "    # Read the file into a DataFrame: df\n",
    "    import pandas as pd\n",
    "    return pd.read_csv(file)"
   ]
  },
  {
   "cell_type": "code",
   "execution_count": null,
   "id": "d026f132",
   "metadata": {},
   "outputs": [],
   "source": [
    "# Path to the file to be imported\n",
    "path = \"Terminos_lagoon_TA_DIC_2023_RawData.csv\"\n",
    "\n",
    "# Import the file\n",
    "CO2Data = import_csv(path)"
   ]
  },
  {
   "cell_type": "code",
   "execution_count": null,
   "id": "83dcd320",
   "metadata": {},
   "outputs": [],
   "source": [
    "CO2Data.head()  # Display the first few rows of the DataFrame"
   ]
  },
  {
   "cell_type": "markdown",
   "id": "63699483",
   "metadata": {},
   "source": [
    "### 2. Creamos la nueva columna y verificamos."
   ]
  },
  {
   "cell_type": "code",
   "execution_count": null,
   "id": "9a5a2a61",
   "metadata": {},
   "outputs": [],
   "source": [
    "CO2Data[\"TA_DIC_RATIO\"] = CO2Data[\"ta_micromol_kg\"] / CO2Data[\"dic_micromol_kg\"]  # Create the new column"
   ]
  },
  {
   "cell_type": "code",
   "execution_count": null,
   "id": "eff7d4c0",
   "metadata": {},
   "outputs": [],
   "source": [
    "TA_DIC_RATIO = CO2Data[\"TA_DIC_RATIO\"]"
   ]
  },
  {
   "cell_type": "code",
   "execution_count": null,
   "id": "4635a6d2",
   "metadata": {},
   "outputs": [],
   "source": [
    "TA_DIC_RATIO.head()  # Display the first few rows of the new column"
   ]
  },
  {
   "cell_type": "markdown",
   "id": "cbd5b0a7",
   "metadata": {},
   "source": [
    "## Segundo ejercicio."
   ]
  },
  {
   "cell_type": "code",
   "execution_count": null,
   "id": "2a435cbf",
   "metadata": {},
   "outputs": [],
   "source": [
    "season_stats = CO2Data.groupby(\"season\")[\"TA_DIC_RATIO\"].agg([\"mean\", \"std\"])"
   ]
  },
  {
   "cell_type": "code",
   "execution_count": null,
   "id": "c484f24f",
   "metadata": {},
   "outputs": [],
   "source": [
    "season_stats.head()  # Display the first few rows of the season statistics"
   ]
  },
  {
   "cell_type": "markdown",
   "id": "20bfb50b",
   "metadata": {},
   "source": [
    "## Tercer ejercicio."
   ]
  },
  {
   "cell_type": "code",
   "execution_count": null,
   "id": "36651db7",
   "metadata": {},
   "outputs": [],
   "source": [
    "season_area_stats = CO2Data.groupby([\"season\", \"area\"])[\"TA_DIC_RATIO\"].agg([\"mean\", \"std\"]).reset_index()\n"
   ]
  },
  {
   "cell_type": "code",
   "execution_count": null,
   "id": "ec6ebd62",
   "metadata": {},
   "outputs": [],
   "source": [
    "season_area_stats.head()  # Display the first few rows of the season statistics"
   ]
  },
  {
   "cell_type": "markdown",
   "id": "ec189ce9",
   "metadata": {},
   "source": [
    "## Cuarto ejercicio."
   ]
  },
  {
   "cell_type": "code",
   "execution_count": null,
   "id": "5439fef6",
   "metadata": {},
   "outputs": [],
   "source": [
    "season_area_stats.to_csv (\"TA_DIC_Season_Area.csv\", index=False)  # Save the season statistics to a CSV file"
   ]
  },
  {
   "cell_type": "markdown",
   "id": "0a799718",
   "metadata": {},
   "source": [
    "### Dejar cifras significativas y dar formato\n"
   ]
  },
  {
   "cell_type": "code",
   "execution_count": null,
   "id": "bd7c1a47",
   "metadata": {},
   "outputs": [],
   "source": [
    "### POR EL MOMENTO NO SIRVE ###\n",
    "\n",
    "# Asignar nombres de columnas adecuados\n",
    "\n",
    "season_area_stats.columns = ['season', 'area'] + [f\"{var}_{stat}\" for var in TA_DIC_RATIO for stat in ['mean', 'std']]\n",
    "\n",
    "#Formatear los valores para mostrar \"media ± desviación estándar\" sin notación científica y con dos cifras decimales\n",
    "for var in TA_DIC_RATIO:\n",
    "    mean_col = f\"{var}_mean\"\n",
    "    std_col = f\"{var}_std\"\n",
    "    season_area_stats[f\"{var}_formatted\"] = season_area_stats.apply(lambda row: f\"{row[mean_col]:,.2f} ± {row[std_col]:,.2f}\", axis=1)\n",
    "\n",
    " #Seleccionar solo las columnas formateadas junto con los índices\n",
    "formatted_result = season_area_stats[['season', 'area'] + [f\"{var}_formatted\" for var in TA_DIC_RATIO]]\n",
    "\n",
    "# Formatear valores \"media ± desviación estándar\"\n",
    "season_area_stats[\"formatted\"] = season_area_stats.apply(\n",
    "    lambda row: f\"{row['mean']:.2f} ± {row['std']:.2f}\", axis=1)\n",
    "\n"
   ]
  },
  {
   "cell_type": "markdown",
   "id": "0d70c22f",
   "metadata": {},
   "source": [
    "# Segundo ejercicio.\n",
    "### 06_plot_descriptive_statistics_matplotib\n",
    "\n",
    "#### - **Plot histogram of DIC and TA**"
   ]
  },
  {
   "cell_type": "markdown",
   "id": "92f9b49f",
   "metadata": {},
   "source": []
  }
 ],
 "metadata": {
  "kernelspec": {
   "display_name": "Python 3",
   "language": "python",
   "name": "python3"
  },
  "language_info": {
   "codemirror_mode": {
    "name": "ipython",
    "version": 3
   },
   "file_extension": ".py",
   "mimetype": "text/x-python",
   "name": "python",
   "nbconvert_exporter": "python",
   "pygments_lexer": "ipython3",
   "version": "3.12.1"
  }
 },
 "nbformat": 4,
 "nbformat_minor": 5
}
